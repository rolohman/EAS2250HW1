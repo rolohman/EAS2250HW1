{
 "cells": [
  {
   "cell_type": "code",
   "execution_count": null,
   "id": "1b9ddaf6-20bb-4e4e-9f2a-c3cd361e4d68",
   "metadata": {},
   "outputs": [],
   "source": [
    "import matplotlib.pyplot as plt\n",
    "import numpy as np"
   ]
  },
  {
   "cell_type": "markdown",
   "id": "78a54d66-ab06-4f59-ac20-4b0219fa4413",
   "metadata": {},
   "source": [
    "Above chunk imports various libraries that allow math, plotting. \n",
    "\n",
    "Next bit defines some symbols. Text after # symbols is a comment"
   ]
  },
  {
   "cell_type": "code",
   "execution_count": null,
   "id": "084701a5-fd73-4656-ad60-3da6b3dc8a30",
   "metadata": {},
   "outputs": [],
   "source": [
    "#These numbers are incorrect\n",
    "G  = 6.36e-12  #  Gravitational constant. Units: N m2 kg-2\n",
    "Me = 6e24      # Mass of Earth, kg\n",
    "re = 6000      # Radius of earth, m\n",
    "h  = 200e3     # Height above Earth's surface, m"
   ]
  },
  {
   "cell_type": "markdown",
   "id": "9da2aeb2-1921-4714-9e54-3db9c0de05af",
   "metadata": {},
   "source": [
    "Part A: How fast does a body orbit another body?"
   ]
  },
  {
   "cell_type": "code",
   "execution_count": null,
   "id": "28806c3b-9272-4762-865a-403cdfbe48a1",
   "metadata": {},
   "outputs": [],
   "source": [
    "#This equation is incorrect!!\n",
    "V=np.sqrt(G/np.square(Me)*(re+h))\n",
    "print(str(V)+' m/s')"
   ]
  },
  {
   "cell_type": "markdown",
   "id": "f33288b2-d1dc-4ea7-b794-36d84a3158ce",
   "metadata": {},
   "source": [
    "Note: You may be interested in seeing how this varies as the distance changes. Remember, the equation here is wrong. Very wrong."
   ]
  },
  {
   "cell_type": "code",
   "execution_count": null,
   "id": "d9960a07-d189-4f27-92ae-fb160282d700",
   "metadata": {},
   "outputs": [],
   "source": [
    "#Generate 20 evenly spaced values between the radius of earth and 1 million meters above\n",
    "r=np.linspace(re,re+1e6,20)  \n",
    "Vs=np.sqrt(G/np.square(Me)*(r))"
   ]
  },
  {
   "cell_type": "code",
   "execution_count": null,
   "id": "e4c32e69-60e3-42fa-8c4a-720cfb04bb5c",
   "metadata": {},
   "outputs": [],
   "source": [
    "plt.plot(r,Vs,'.-','r')\n",
    "plt.grid('on')\n",
    "plt.xlabel('Distance between center of mass of two bodies, m')\n",
    "plt.ylabel('Velocity, m/s')\n",
    "plt.show()"
   ]
  },
  {
   "cell_type": "code",
   "execution_count": null,
   "id": "814bb469-9948-4cc8-87d0-f0a12892aefe",
   "metadata": {},
   "outputs": [],
   "source": []
  }
 ],
 "metadata": {
  "kernelspec": {
   "display_name": "Python 3 (ipykernel)",
   "language": "python",
   "name": "python3"
  },
  "language_info": {
   "codemirror_mode": {
    "name": "ipython",
    "version": 3
   },
   "file_extension": ".py",
   "mimetype": "text/x-python",
   "name": "python",
   "nbconvert_exporter": "python",
   "pygments_lexer": "ipython3",
   "version": "3.7.0"
  }
 },
 "nbformat": 4,
 "nbformat_minor": 5
}
